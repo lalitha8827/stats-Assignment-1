{
 "cells": [
  {
   "cell_type": "markdown",
   "metadata": {},
   "source": [
    "1.The marks awarded for an assignment set for a Year 8 class of 20 students were as\n",
    "follows:\n",
    "6 7 5 7 7 8 7 6 9 7 4 10 6 8 8 9 5 6 4 8"
   ]
  },
  {
   "cell_type": "code",
   "execution_count": 1,
   "metadata": {},
   "outputs": [
    {
     "name": "stdout",
     "output_type": "stream",
     "text": [
      "Mean = 6.85\n",
      "Median = 7.0\n",
      "Mode = 7\n",
      "Standard Deviation = 1.5898113095584647\n"
     ]
    }
   ],
   "source": [
    "import numpy as np\n",
    "import stats\n",
    "marks=np.array([6,7,5,7,7,8,7,6,9,7,4,10,6,8,8,9,5,6,4,8])\n",
    "Mean=np.mean(marks)\n",
    "Median=np.median(marks)\n",
    "Mode=stats.mode(marks)\n",
    "Std=np.std(marks)\n",
    "print(\"Mean =\",Mean)\n",
    "print(\"Median =\",Median)\n",
    "print(\"Mode =\",Mode)\n",
    "print(\"Standard Deviation =\",Std)"
   ]
  },
  {
   "cell_type": "code",
   "execution_count": null,
   "metadata": {},
   "outputs": [],
   "source": []
  },
  {
   "cell_type": "markdown",
   "metadata": {},
   "source": [
    "2.The number of calls from motorists per day for roadside service was recorded for a\n",
    "particular month:\n",
    "28, 122, 217, 130, 120, 86, 80, 90, 140, 120, 70, 40, 145, 113, 90, 68, 174, 194, 170,\n",
    "100, 75, 104, 97, 75,\n",
    "123, 100, 75, 104, 97, 75, 123, 100, 89, 120, 109"
   ]
  },
  {
   "cell_type": "code",
   "execution_count": 2,
   "metadata": {},
   "outputs": [
    {
     "name": "stdout",
     "output_type": "stream",
     "text": [
      "Mean = 107.51428571428572\n",
      "Median = 100.0\n",
      "Mode = 75\n",
      "Standard Deviation = 38.77287080168403\n"
     ]
    }
   ],
   "source": [
    "calls=np.array([28, 122, 217, 130, 120, 86, 80, 90, 140, 120, 70, 40, 145, 113, 90, 68, 174, 194, 170, 100, 75, 104, 97, 75, 123, 100, 75, 104, 97, 75, 123, 100, 89, 120, 109])\n",
    "Mean=np.mean(calls)\n",
    "Median=np.median(calls)\n",
    "Mode=stats.mode(calls)\n",
    "Std=np.std(calls)\n",
    "print(\"Mean =\",Mean)\n",
    "print(\"Median =\",Median)\n",
    "print(\"Mode =\",Mode)\n",
    "print(\"Standard Deviation =\",Std)"
   ]
  },
  {
   "cell_type": "code",
   "execution_count": null,
   "metadata": {},
   "outputs": [],
   "source": []
  },
  {
   "cell_type": "markdown",
   "metadata": {},
   "source": [
    "3.The number of times I go to the gym in weekdays, are given below along with its\n",
    "associated probability:\n",
    "x = 0, 1, 2, 3, 4, 5\n",
    "f(x) = 0.09, 0.15, 0.40, 0.25, 0.10, 0.01\n",
    "Calculate the mean no. of workouts in a week. Also evaluate the variance involved in it"
   ]
  },
  {
   "cell_type": "code",
   "execution_count": 3,
   "metadata": {},
   "outputs": [
    {
     "name": "stdout",
     "output_type": "stream",
     "text": [
      "Mean no. of workouts = 2.15\n",
      "variance involved= 2.9166666666666665\n"
     ]
    }
   ],
   "source": [
    "x=np.arange(6)\n",
    "f=np.array([0.09, 0.15, 0.40, 0.25, 0.10,0.01])\n",
    "mean_wkts=0\n",
    "for i in range(len(x)):\n",
    "    mean_wkts+=(x[i]*f[i])\n",
    "print(\"Mean no. of workouts =\",mean_wkts)\n",
    "print(\"variance involved=\",np.var(x))"
   ]
  },
  {
   "cell_type": "code",
   "execution_count": null,
   "metadata": {},
   "outputs": [],
   "source": []
  },
  {
   "cell_type": "markdown",
   "metadata": {},
   "source": [
    "4.Let the continuous random variable D denote the diameter of the hole drilled in an\n",
    "aluminum sheet. The target diameter to be achieved is 12.5mm. Random\n",
    "disturbances in the process often result in inaccuracy.\n",
    "Historical data shows that the distribution of D can be modelled by the PDF (d) =\n",
    "20e−20(d−12.5), d ≥ 12.5. If a part with diameter > 12.6 mm needs to be scrapped,\n",
    "what is the proportion of those parts? What is the CDF when the diameter is of 11\n",
    "mm? What is your conclusion regarding the proportion of scraps?"
   ]
  },
  {
   "cell_type": "code",
   "execution_count": 4,
   "metadata": {},
   "outputs": [
    {
     "name": "stdout",
     "output_type": "stream",
     "text": [
      "From the PDF curve we have p(12.5<D<12.6) = 1-p(D>12.6), Therefore Proportion of those parts : 0.8646647167633861\n"
     ]
    }
   ],
   "source": [
    "import scipy.integrate as integrate\n",
    "import scipy.special as special\n",
    "#given D is the diameter of the hole\n",
    "#PDF,f(d)=20e−20(d−12.5)\n",
    "#given D>12.6 needs to be scrapped ,i.e., 12.6<D<infinity\n",
    "#A part is scrapped if D>12.6,so p(D>12.6) is given by,\n",
    "#p=p(D>12.6)\n",
    "\n",
    "p=integrate.quad(lambda d:20*np.exp(-20*(d-12.5)),12.6,np.inf)\n",
    "\n",
    "#proportion of those parts is p(12.5<D<12.6)\n",
    "\n",
    "print(\"From the PDF curve we have p(12.5<D<12.6) = 1-p(D>12.6), Therefore Proportion of those parts :\",(1-p[0]))"
   ]
  },
  {
   "cell_type": "code",
   "execution_count": null,
   "metadata": {},
   "outputs": [],
   "source": []
  },
  {
   "cell_type": "code",
   "execution_count": null,
   "metadata": {},
   "outputs": [],
   "source": []
  },
  {
   "cell_type": "markdown",
   "metadata": {},
   "source": [
    "5.A company manufactures LED bulbs with a faulty rate of 30%. If I randomly select 6\n",
    "chosen LEDs, what is the probability of having 2 faulty LEDs in my sample?\n",
    "Calculate the average value of this process. Also evaluate the standard deviation\n",
    "associated with it."
   ]
  },
  {
   "cell_type": "code",
   "execution_count": 5,
   "metadata": {},
   "outputs": [
    {
     "name": "stdout",
     "output_type": "stream",
     "text": [
      "Average value of the process,(n*p)=  1.7999999999999998\n",
      "Standard Deviation,(sqrt(n*p*(1-p))) = 1.1224972160321822\n"
     ]
    }
   ],
   "source": [
    "from scipy.stats import binom\n",
    "import math\n",
    "probability=binom.pmf(k=2,n=6,p=0.3)\n",
    "mean,var=binom.stats(n=6,p=0.3)\n",
    "print(\"Average value of the process,(n*p)= \",mean)\n",
    "print(\"Standard Deviation,(sqrt(n*p*(1-p))) =\",math.sqrt(var))"
   ]
  },
  {
   "cell_type": "code",
   "execution_count": null,
   "metadata": {},
   "outputs": [],
   "source": []
  },
  {
   "cell_type": "markdown",
   "metadata": {},
   "source": [
    "6.Gaurav and Barakha are both preparing for entrance exams. Gaurav attempts to\n",
    "solve 8 questions per day with a correction rate of 75%, while Barakha averages\n",
    "around 12 questions per day with a correction rate of 45%. What is the probability\n",
    "that each of them will solve 5 questions correctly? What happens in cases of 4 and 6\n",
    "correct solutions? What do you infer from it? What are the two main governing\n",
    "factors affecting their ability to solve questions correctly? Give a pictorial\n",
    "representation of the same to validate your answer."
   ]
  },
  {
   "cell_type": "code",
   "execution_count": 6,
   "metadata": {},
   "outputs": [
    {
     "name": "stdout",
     "output_type": "stream",
     "text": [
      "Probability_that_gaurav_will_solve_5_questions_correctly : 0.20764160156250022\n",
      "Probability_that_Barakha_will_solve_5_questions_correctly : 0.22249823843265792\n",
      "Probability_that_gaurav_will_solve_4_questions_correctly : 0.08651733398437506\n",
      "Probability_that_gaurav_will_solve_6_questions_correctly : 0.31146240234375017\n",
      "Probability_that_Barakha_will_solve_4_questions_correctly : 0.16996393213605795\n",
      "Probability_that_Barakha_will_solve_6_questions_correctly : 0.21238468214026424\n"
     ]
    },
    {
     "data": {
      "image/png": "[encoded data removed]",
      "text/plain": [
       "<Figure size 1080x576 with 2 Axes>"
      ]
     },
     "metadata": {
      "needs_background": "light"
     },
     "output_type": "display_data"
    }
   ],
   "source": [
    "import scipy\n",
    "import matplotlib.pyplot as plt\n",
    "%matplotlib inline\n",
    "#probability that each of them will solve 5 questions correctly\n",
    "Probability_that_gaurav_will_solve_5_questions_correctly=scipy.stats.binom.pmf(k=5, n=8, p=0.75)\n",
    "Probability_that_Barakha_will_solve_5_questions_correctly=scipy.stats.binom.pmf(k=5, n=12, p=0.45)\n",
    "\n",
    "#probability that each of them will solve 4 and 6 questions correctly:\n",
    "#probability that gaurav will solve 4 and 6 questions correctly\n",
    "Probability_that_gaurav_will_solve_4_questions_correctly=scipy.stats.binom.pmf(k=4, n=8, p=0.75)\n",
    "Probability_that_gaurav_will_solve_6_questions_correctly=scipy.stats.binom.pmf(k=6, n=8, p=0.75)\n",
    "#probability that Barakha will solve 4 and 6 questions correctly\n",
    "Probability_that_Barakha_will_solve_4_questions_correctly=scipy.stats.binom.pmf(k=4, n=12, p=0.45)\n",
    "Probability_that_Barakha_will_solve_6_questions_correctly=scipy.stats.binom.pmf(k=6, n=12, p=0.45)\n",
    "print(\"Probability_that_gaurav_will_solve_5_questions_correctly :\",Probability_that_gaurav_will_solve_5_questions_correctly)\n",
    "print(\"Probability_that_Barakha_will_solve_5_questions_correctly :\",Probability_that_Barakha_will_solve_5_questions_correctly)\n",
    "print(\"Probability_that_gaurav_will_solve_4_questions_correctly :\",Probability_that_gaurav_will_solve_4_questions_correctly)\n",
    "print(\"Probability_that_gaurav_will_solve_6_questions_correctly :\",Probability_that_gaurav_will_solve_6_questions_correctly)\n",
    "print(\"Probability_that_Barakha_will_solve_4_questions_correctly :\",Probability_that_Barakha_will_solve_4_questions_correctly)\n",
    "print(\"Probability_that_Barakha_will_solve_6_questions_correctly :\",Probability_that_Barakha_will_solve_6_questions_correctly)\n",
    "\n",
    "#Let n1 questions are attemplted by gaurav\n",
    "#Let n2 questions are attempted by Barakha\n",
    "n1=8\n",
    "n2=12\n",
    "p1=0.75\n",
    "p2=0.45\n",
    "x1=list(range(n1+1))\n",
    "x2=list(range(n2+1))\n",
    "l1=[binom.pmf(i,n1,p1) for i in x1]\n",
    "l2=[binom.pmf(i,n2,p2) for i in x2]\n",
    "fig,axes=plt.subplots(1,2,figsize=(15,8))\n",
    "axes[0].bar(x1,l1)\n",
    "axes[0].set_title(\"Gaurav's Binomial Distribution\")\n",
    "axes[1].bar(x2,l2)\n",
    "axes[1].set_title(\"Barakha's Binomial Distribution\")\n",
    "plt.show()"
   ]
  },
  {
   "cell_type": "code",
   "execution_count": null,
   "metadata": {},
   "outputs": [],
   "source": []
  },
  {
   "cell_type": "markdown",
   "metadata": {},
   "source": [
    "7.Customers arrive at a rate of 72 per hour to my shop. What is the probability of k\n",
    "customers arriving in 4 minutes? a) 5 customers, b) not more than 3 customers, c)\n",
    "more than 3 customers. Give a pictorial representation of the same to validate your\n",
    "answer."
   ]
  },
  {
   "cell_type": "code",
   "execution_count": 7,
   "metadata": {},
   "outputs": [
    {
     "name": "stdout",
     "output_type": "stream",
     "text": [
      "Probablity of 5 customers arriving in 4 minutes : 0.178\n",
      "Probablity of not more than 3 customers arriving in 4 minutes : 0.313\n",
      "Probablity of more than 3 customers arriving in 4 minutes : 0.687\n"
     ]
    },
    {
     "data": {
      "text/plain": [
       "<matplotlib.axes._subplots.AxesSubplot at 0x1ea9a695108>"
      ]
     },
     "execution_count": 7,
     "metadata": {},
     "output_type": "execute_result"
    },
    {
     "data": {
      "image/png": "[encoded data removed]",
      "text/plain": [
       "<Figure size 432x288 with 1 Axes>"
      ]
     },
     "metadata": {
      "needs_background": "light"
     },
     "output_type": "display_data"
    }
   ],
   "source": [
    "import seaborn as sns\n",
    "lam=(72/60)*4\n",
    "poi=np.random.poisson(lam,1000)\n",
    "#Probability of 5 customers arriving in 4 minutes,\n",
    "prob_5=np.sum(poi==5)/1000\n",
    "#Probability of not more than 3 customers arriving in 4 minutes,\n",
    "prob_not_more_than3=np.sum(poi<=3)/1000\n",
    "#Probability of more than 3 customers arriving in 4 minutes,\n",
    "prob_more_than3=np.sum(poi>3)/1000\n",
    "print(\"Probablity of 5 customers arriving in 4 minutes :\",prob_5)\n",
    "print(\"Probablity of not more than 3 customers arriving in 4 minutes :\",prob_not_more_than3)\n",
    "print(\"Probablity of more than 3 customers arriving in 4 minutes :\",prob_more_than3)\n",
    "sns.distplot(poi,hist=False)"
   ]
  },
  {
   "cell_type": "code",
   "execution_count": null,
   "metadata": {},
   "outputs": [],
   "source": []
  },
  {
   "cell_type": "markdown",
   "metadata": {},
   "source": [
    "8.I work as a data analyst in Aeon Learning Pvt. Ltd. After analyzing data, I make\n",
    "reports, where I have the efficiency of entering 77 words per minute with 6 errors per\n",
    "hour. What is the probability that I will commit 2 errors in a 455-word financial report?\n",
    "What happens when the no. of words increases/decreases (in case of 1000 words,\n",
    "255 words)?\n",
    "How is the λ affected?\n",
    "How does it influence the PMF?\n",
    "Give a pictorial representation of the same to validate your answer."
   ]
  },
  {
   "cell_type": "code",
   "execution_count": 8,
   "metadata": {},
   "outputs": [
    {
     "name": "stdout",
     "output_type": "stream",
     "text": [
      "probability that I will commit 2 errors in a 455-word financial report : 0.107\n"
     ]
    },
    {
     "data": {
      "text/plain": [
       "<matplotlib.axes._subplots.AxesSubplot at 0x1ea9a708b08>"
      ]
     },
     "execution_count": 8,
     "metadata": {},
     "output_type": "execute_result"
    },
    {
     "data": {
      "image/png": "[encoded data removed]",
      "text/plain": [
       "<Figure size 432x288 with 1 Axes>"
      ]
     },
     "metadata": {
      "needs_background": "light"
     },
     "output_type": "display_data"
    }
   ],
   "source": [
    "#given an efficiency of entering 77 words per minute with 6 errors per hour\n",
    "S77_words_per_minute=77*60 #words_per_hour\n",
    "six_errors_per_hour=6/4620 #errors_per_words\n",
    "#probability that i will commit 2 errors in 455 word financial report\n",
    "r=2\n",
    "lam=six_errors_per_hour*455\n",
    "poi=np.random.poisson(lam,1000)\n",
    "prob_2=np.sum(poi==2)/1000\n",
    "print(\"probability that I will commit 2 errors in a 455-word financial report :\",prob_2)\n",
    "sns.distplot(poi,hist=False)"
   ]
  },
  {
   "cell_type": "code",
   "execution_count": null,
   "metadata": {},
   "outputs": [],
   "source": []
  },
  {
   "cell_type": "markdown",
   "metadata": {},
   "source": [
    "9.Let the continuous random variable D denote the diameter of the hole drilled in an\n",
    "aluminum sheet. The target diameter to be achieved is 12.5mm. Random\n",
    "disturbances in the process often result in inaccuracy.\n",
    "Historical data shows that the distribution of D can be modelled by the PDF, f(d) =\n",
    "20e−20(d−12.5), d ≥ 12.5. If a part with diameter > 12.6 mm needs to be scrapped,\n",
    "what is the proportion of those parts? What is the CDF when the diameter is of 11\n",
    "mm?\n",
    "What is the conclusion of this experiment?"
   ]
  },
  {
   "cell_type": "code",
   "execution_count": 9,
   "metadata": {},
   "outputs": [
    {
     "name": "stdout",
     "output_type": "stream",
     "text": [
      "By PDF we have p(12.5<D<12.6)=1-p(D>12.6),Therefore Proportion of those parts : 0.8646647167633861\n",
      "CDF of the given function at diameter 11 is : 112099.03663221843\n"
     ]
    }
   ],
   "source": [
    "import scipy.integrate as integrate\n",
    "import scipy.special as special\n",
    "import math\n",
    "#given D is the diameter of the hole\n",
    "#PDF,f(d)=20e−20(d−12.5)\n",
    "#given D>12.6 needs to be scrapped ,i.e., 12.6<D<infinity\n",
    "#A part is scrapped if D>12.6,so p(D>12.6) is given by,\n",
    "#p=p(D>12.6)\n",
    "\n",
    "p=integrate.quad(lambda d:20*np.exp(-20*(d-12.5)),12.6,np.inf)\n",
    "\n",
    "#proportion of those parts is p(12.5<D<12.6)\n",
    "\n",
    "print(\"By PDF we have p(12.5<D<12.6)=1-p(D>12.6),Therefore Proportion of those parts :\",(1-p[0]))\n",
    "\n",
    "#here asked to find cdf when diameter is of 11 mm\n",
    "#The cummilative distribution function of a random variable D is F(d)=P(D<=d)=integration(f(t)dt,-infinity,d)\n",
    "\n",
    "ans2=integrate.quad(lambda d:20*np.exp(-20*(d-12.5)),np.inf,11)\n",
    "print(\"CDF of the given function at diameter 11 is :\",ans2[1])"
   ]
  },
  {
   "cell_type": "code",
   "execution_count": null,
   "metadata": {},
   "outputs": [],
   "source": []
  },
  {
   "cell_type": "markdown",
   "metadata": {},
   "source": [
    "10.Please compute the following:\n",
    "\n",
    "a) P(Z > 1.26), . P(Z < −0.86), P(Z > −1.37), P(−1.25 < Z < 0.37), . P(Z ≤ −4.6)\n",
    "\n",
    "b) Find the value z such that P(Z > z) = 0.05\n",
    "\n",
    "c) Find the value of z such that P(−z < Z < z) = 0.99"
   ]
  },
  {
   "cell_type": "code",
   "execution_count": 20,
   "metadata": {},
   "outputs": [
    {
     "name": "stdout",
     "output_type": "stream",
     "text": [
      "From Z-table we get the value of p(Z<=1.26) as 0.8962,therfore p(Z>1.26) is : 0.1038\n",
      "From Z-table we get p(Z<-0.86) as : 0.1949\n",
      "From Z-table we get p(Z>-1.37)=>p(Z<1.37) as : 0.9147\n",
      "From Z-table we get p(Z<-1.25) as 0.1056 and p(z<0.37) as 0.6443 ,therefore we get p(−1.25<Z<0.37) as : 0.5387\n",
      "From z-table we get p(z<=4.6) as : 0.0000\n",
      "From z-table we get the value z when p(Z>z)=0.05 as 1.64\n",
      "since Total-probablity=1 ,then 1-0.99=0.01  ,by diving with 2 we get 0.005\n",
      "From z-table we get z-value when p(-z<Z<z)=0.99 as : 2.57\n"
     ]
    }
   ],
   "source": [
    "#p(Z>1.26)\n",
    "#p(Z>1.26)=1-p(Z<=1.26)\n",
    "print(\"From Z-table we get the value of p(Z<=1.26) as 0.8962,therfore p(Z>1.26) is :\",1-0.8962)\n",
    "#p(Z<-0.86)\n",
    "print(\"From Z-table we get p(Z<-0.86) as : 0.1949\")\n",
    "#p(Z>−1.37)\n",
    "#p(Z>-1.37)=p(Z<1.37)\n",
    "print(\"From Z-table we get p(Z>-1.37)=>p(Z<1.37) as : 0.9147\")\n",
    "#p(−1.25<Z<0.37)\n",
    "#p(−1.25<Z<0.37)=>p(Z<-1.25) and p(Z<0.37) \n",
    "print(\"From Z-table we get p(Z<-1.25) as 0.1056 and p(z<0.37) as 0.6443 ,therefore we get p(−1.25<Z<0.37) as :\",0.6443-0.1056)\n",
    "#p(Z≤−4.6)\n",
    "print(\"From z-table we get p(z<=4.6) as : 0.0000\")\n",
    "\n",
    "#Find the value z such that P(Z>z)=0.05\n",
    "print(\"From z-table we get the value z when p(Z>z)=0.05 as 1.64\")\n",
    "\n",
    "#Find the value of z such that P(−z<Z<z)=0.99\n",
    "print(\"since Total-probablity=1 ,then 1-0.99=0.01  ,by diving with 2 we get 0.005\")\n",
    "print(\"From z-table we get z-value when p(-z<Z<z)=0.99 as : 2.57\")"
   ]
  },
  {
   "cell_type": "code",
   "execution_count": null,
   "metadata": {},
   "outputs": [],
   "source": []
  },
  {
   "cell_type": "markdown",
   "metadata": {},
   "source": [
    "11.The current flow in a copper wire follow a normal distribution with a mean of 10 mA\n",
    "and a variance of 4 (mA)2.\n",
    "What is the probability that a current measurement will exceed 13 mA? What is the\n",
    "probability that a current measurement is between 9 and 11mA? Determine the\n",
    "current measurement which has a probability of 0.98."
   ]
  },
  {
   "cell_type": "code",
   "execution_count": 23,
   "metadata": {},
   "outputs": [
    {
     "name": "stdout",
     "output_type": "stream",
     "text": [
      "probability hat a current measurement will exceed 13 mA,p(x>13),\n",
      "p(x>13)=>p(z>1.5)\n",
      "       =>1-p(z<=1.5)\n",
      "From z-table we get p(z<=1.5) as 0.9332,therefore p(z>1.5) as : 0.06679999999999997\n",
      "                  \n",
      "probability that a current measurement is between 9 and 11mA,p(9<x<11),\n",
      "p(9<x<13)=>p(-0.5<z<0.5)\n",
      "         =>p(z<0.5)-p(z<-0.5)\n",
      "From z-table we get p(z<0.5) as 0.6915 and p(z<-0.5) as 0.3085\n",
      "Therefore we get p(-0.5<z<0.5) = 0.383\n",
      "                 \n",
      "The current measurement which has a probability of 0.98 ,\n",
      "From the z-table,we get z value when p(Z<z)=0.98 as 2.06\n"
     ]
    }
   ],
   "source": [
    "#given mean=10\n",
    "#given variance=4 so standard_deviation=2\n",
    "mean=10\n",
    "std=2\n",
    "z=(x-mean)/std\n",
    "#probability hat a current measurement will exceed 13 mA is given by p(x>13)\n",
    "print(\"probability hat a current measurement will exceed 13 mA,p(x>13),\")\n",
    "print(\"p(x>13)=>p(z>1.5)\")\n",
    "print(\"       =>1-p(z<=1.5)\")\n",
    "print(\"From z-table we get p(z<=1.5) as 0.9332,therefore p(z>1.5) as :\",1-0.9332)\n",
    "print(\"                  \")\n",
    "\n",
    "#probability that a current measurement is between 9 and 11mA\n",
    "print(\"probability that a current measurement is between 9 and 11mA,p(9<x<11),\")\n",
    "print(\"p(9<x<13)=>p(-0.5<z<0.5)\")\n",
    "print(\"         =>p(z<0.5)-p(z<-0.5)\")\n",
    "print(\"From z-table we get p(z<0.5) as 0.6915 and p(z<-0.5) as 0.3085\")\n",
    "print(\"Therefore we get p(-0.5<z<0.5) =\",0.6915-0.3085)\n",
    "print(\"                 \")\n",
    "\n",
    "#The current measurement which has a probability of 0.98\n",
    "#we are asked z when p(Z<z)=0.98\n",
    "print(\"The current measurement which has a probability of 0.98 ,\")\n",
    "print(\"From the z-table,we get z value when p(Z<z)=0.98 as 2.06\")"
   ]
  },
  {
   "cell_type": "code",
   "execution_count": null,
   "metadata": {},
   "outputs": [],
   "source": []
  },
  {
   "cell_type": "markdown",
   "metadata": {},
   "source": [
    "12.The shaft in a piston has its diameter normally distributed with a mean of 0.2508 inch\n",
    "and a standard deviation of 0.0005 inch. The specifications of the shaft are 0.2500 ∓\n",
    "0.0015 inch. What proportion of shafts are in sync with the specifications? If the\n",
    "process is centered so that the mean is equal to the target value of 0.2500, what\n",
    "proportion of shafts conform to the new specifications? What is your conclusion from\n",
    "this experiment?"
   ]
  },
  {
   "cell_type": "code",
   "execution_count": 24,
   "metadata": {},
   "outputs": [
    {
     "name": "stdout",
     "output_type": "stream",
     "text": [
      "we have to find the value of p(0.2485<x<0.2515) \n",
      "p(0.2485<x<0.2515)=>p(((0.2485-0.2508)/0.0005)<Z<((0.2515-0.2508)/0.0005)\n",
      "                  =>p(-4.6<Z<1.4)=>p(z<1.4)-p(z<-4.6)\n",
      "From z-table we get p(z<1.4) as 0.9192 and p(z<-4.6) as 0.0000 ,so therefore we get the value of p(-4.6<Z<1.4) as  0.9192\n",
      "From above ,we conclude that 92% of shafts to the new specifications.\n"
     ]
    }
   ],
   "source": [
    "#given mean=0.2508\n",
    "#standard_deviation=0.0005\n",
    "mean=0.2508\n",
    "std=0.0005\n",
    "z=(x-mean)/std\n",
    "#given specifications are 0.2500+-0.0015\n",
    "#p(0.2485<x<0.2515)=>p(((0.2485-0.2508)/0.0005)<Z<((0.2515-0.2508)/0.0005))\n",
    "                  #=>p(-4.6<Z<1.4)=>p(z<1.4)-p(z<-4.6)\n",
    "print(\"we have to find the value of p(0.2485<x<0.2515) \")\n",
    "print(\"p(0.2485<x<0.2515)=>p(((0.2485-0.2508)/0.0005)<Z<((0.2515-0.2508)/0.0005)\")\n",
    "print(\"                  =>p(-4.6<Z<1.4)=>p(z<1.4)-p(z<-4.6)\")\n",
    "print(\"From z-table we get p(z<1.4) as 0.9192 and p(z<-4.6) as 0.0000 ,so therefore we get the value of p(-4.6<Z<1.4) as \",0.9192-0.0000)\n",
    "print(\"From above ,we conclude that 92% of shafts to the new specifications.\")"
   ]
  },
  {
   "cell_type": "code",
   "execution_count": null,
   "metadata": {},
   "outputs": [],
   "source": []
  }
 ],
 "metadata": {
  "kernelspec": {
   "display_name": "Python 3",
   "language": "python",
   "name": "python3"
  },
  "language_info": {
   "codemirror_mode": {
    "name": "ipython",
    "version": 3
   },
   "file_extension": ".py",
   "mimetype": "text/x-python",
   "name": "python",
   "nbconvert_exporter": "python",
   "pygments_lexer": "ipython3",
   "version": "3.7.6"
  }
 },
 "nbformat": 4,
 "nbformat_minor": 4
}
